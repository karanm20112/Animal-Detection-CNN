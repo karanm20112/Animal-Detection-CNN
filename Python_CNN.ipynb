{
 "cells": [
  {
   "cell_type": "code",
   "execution_count": 1,
   "metadata": {
    "collapsed": true
   },
   "outputs": [],
   "source": [
    "# We will use Keras to import images efficiently\n",
    "# We only need to perform a structure for the images\n",
    "# Training set: 8000 images of dogs and cats (4000 images each)\n",
    "# Testing set: 2000 images of dogs and cats (1000 images each)"
   ]
  },
  {
   "cell_type": "code",
   "execution_count": 2,
   "metadata": {},
   "outputs": [
    {
     "name": "stderr",
     "output_type": "stream",
     "text": [
      "/Users/alexguanga/anaconda/lib/python3.6/site-packages/h5py/__init__.py:34: FutureWarning: Conversion of the second argument of issubdtype from `float` to `np.floating` is deprecated. In future, it will be treated as `np.float64 == np.dtype(float).type`.\n",
      "  from ._conv import register_converters as _register_converters\n",
      "Using TensorFlow backend.\n"
     ]
    }
   ],
   "source": [
    "# Feature is scaling is required in image recognition\n",
    "\n",
    "# This package is used to initialize the neural network. There are two methods to initialize\n",
    "# either as a sequence of layers or as a graph\n",
    "from keras.models import Sequential \n",
    "\n",
    "# Adding the Convolution2D network (videos are in 3D bc of time)\n",
    "from keras.layers import Convolution2D\n",
    "\n",
    "# Adding the process 2: pooling\n",
    "from keras.layers import MaxPooling2D\n",
    "\n",
    "from keras.layers import Flatten\n",
    "\n",
    "# Add the fully connected layers in a neural network\n",
    "from keras.layers import Dense"
   ]
  },
  {
   "cell_type": "code",
   "execution_count": 3,
   "metadata": {
    "collapsed": true
   },
   "outputs": [],
   "source": [
    "# Initializing the CNN\n",
    "classifier = Sequential()"
   ]
  },
  {
   "cell_type": "code",
   "execution_count": 4,
   "metadata": {
    "collapsed": true
   },
   "outputs": [],
   "source": [
    "# Recall\n",
    "# Step 1 is applying the convolution with the feature map\n",
    "# where we find if the feature map \"matches\" with the pixels from the images\n",
    "# The larger the number, the more alike that portion of the image aligns with the feature map\n",
    "# We will do this with many feature maps as we would like\n",
    "\n",
    "\n",
    "# input size would be 1 if the image was black and white\n",
    "# input size would be 3 if the image was in color\n",
    "# for tensorflow backend, the order is the resolution, resolution, and layers\n",
    "\n",
    "classifier.add(Convolution2D(32, (3, 3), input_shape=(64, 64, 3), activation=\"relu\")) # filters is the # of feature maps, 3 by 3 dimension "
   ]
  },
  {
   "cell_type": "code",
   "execution_count": 5,
   "metadata": {
    "collapsed": true
   },
   "outputs": [],
   "source": [
    "# Feature map has a stride of one\n",
    "# Max pooling performs with a stride of two\n",
    "# We are getting the highest value for the specific dimension\n",
    "\n",
    "classifier.add(MaxPooling2D(pool_size=(2, 2)))"
   ]
  },
  {
   "cell_type": "code",
   "execution_count": 6,
   "metadata": {
    "collapsed": true
   },
   "outputs": [],
   "source": [
    "# Adding a second Convolution layer\n",
    "classifier.add(Convolution2D(32, (3, 3), activation=\"relu\")) \n",
    "classifier.add(MaxPooling2D(pool_size=(2, 2)))\n"
   ]
  },
  {
   "cell_type": "code",
   "execution_count": 7,
   "metadata": {
    "collapsed": true
   },
   "outputs": [],
   "source": [
    "# When we have our pooled feature (remember this only for one feature map and one feature pooling)\n",
    "# we have to create it into a vector!\n",
    "# In the example he provides, every osingl example of the vector is an input for the neural network\n",
    "# When we performed that flattening, we do not lose information on the spacial structure\n",
    "\n",
    "classifier.add(Flatten())"
   ]
  },
  {
   "cell_type": "code",
   "execution_count": 8,
   "metadata": {
    "collapsed": true
   },
   "outputs": [],
   "source": [
    "# We are performing the ANN using the vectors (spacial structure),\n",
    "# CNN helps us create the vectors and the ANN is used to build the predictions\n",
    "\n",
    "# Hidden layer\n",
    "classifier.add(Dense(units=128, activation='relu')) # 128 was set random by the author\n",
    "\n",
    "# Final layer\n",
    "classifier.add(Dense(units=1, activation='sigmoid')) # 128 was set random by the author"
   ]
  },
  {
   "cell_type": "code",
   "execution_count": 9,
   "metadata": {
    "collapsed": true
   },
   "outputs": [],
   "source": [
    "# Compliling the entire method\n",
    "\n",
    "classifier.compile(optimizer='adam', loss='binary_crossentropy', metrics=['accuracy'])"
   ]
  },
  {
   "cell_type": "code",
   "execution_count": 10,
   "metadata": {},
   "outputs": [
    {
     "name": "stdout",
     "output_type": "stream",
     "text": [
      "Found 8000 images belonging to 2 classes.\n",
      "Found 2000 images belonging to 2 classes.\n",
      "Epoch 1/25\n",
      "250/250 [==============================] - 127s 506ms/step - loss: 0.6779 - acc: 0.5736 - val_loss: 0.6138 - val_acc: 0.6655\n",
      "Epoch 2/25\n",
      "250/250 [==============================] - 121s 482ms/step - loss: 0.6061 - acc: 0.6711 - val_loss: 0.5864 - val_acc: 0.6905\n",
      "Epoch 3/25\n",
      "250/250 [==============================] - 118s 471ms/step - loss: 0.5685 - acc: 0.7051 - val_loss: 0.5234 - val_acc: 0.7515\n",
      "Epoch 4/25\n",
      "250/250 [==============================] - 117s 466ms/step - loss: 0.5347 - acc: 0.7329 - val_loss: 0.5529 - val_acc: 0.7330\n",
      "Epoch 5/25\n",
      "250/250 [==============================] - 111s 443ms/step - loss: 0.5116 - acc: 0.7499 - val_loss: 0.5534 - val_acc: 0.7265\n",
      "Epoch 6/25\n",
      "250/250 [==============================] - 100s 402ms/step - loss: 0.4894 - acc: 0.7616 - val_loss: 0.4741 - val_acc: 0.7740\n",
      "Epoch 7/25\n",
      "250/250 [==============================] - 102s 407ms/step - loss: 0.4798 - acc: 0.7691 - val_loss: 0.5469 - val_acc: 0.7415\n",
      "Epoch 8/25\n",
      "250/250 [==============================] - 108s 431ms/step - loss: 0.4602 - acc: 0.7861 - val_loss: 0.4664 - val_acc: 0.7835\n",
      "Epoch 9/25\n",
      "250/250 [==============================] - 102s 407ms/step - loss: 0.4480 - acc: 0.7845 - val_loss: 0.5255 - val_acc: 0.7400\n",
      "Epoch 10/25\n",
      "250/250 [==============================] - 106s 425ms/step - loss: 0.4335 - acc: 0.7961 - val_loss: 0.4626 - val_acc: 0.7910\n",
      "Epoch 11/25\n",
      "250/250 [==============================] - 109s 436ms/step - loss: 0.4264 - acc: 0.8000 - val_loss: 0.4976 - val_acc: 0.7730\n",
      "Epoch 12/25\n",
      "250/250 [==============================] - 121s 482ms/step - loss: 0.4130 - acc: 0.8085 - val_loss: 0.4689 - val_acc: 0.7835\n",
      "Epoch 13/25\n",
      "250/250 [==============================] - 103s 412ms/step - loss: 0.3905 - acc: 0.8212 - val_loss: 0.4806 - val_acc: 0.7810\n",
      "Epoch 14/25\n",
      "250/250 [==============================] - 103s 411ms/step - loss: 0.3919 - acc: 0.8199 - val_loss: 0.4594 - val_acc: 0.7910\n",
      "Epoch 15/25\n",
      "250/250 [==============================] - 108s 431ms/step - loss: 0.3848 - acc: 0.8230 - val_loss: 0.4842 - val_acc: 0.7875\n",
      "Epoch 16/25\n",
      "250/250 [==============================] - 111s 444ms/step - loss: 0.3691 - acc: 0.8344 - val_loss: 0.4784 - val_acc: 0.7680\n",
      "Epoch 17/25\n",
      "250/250 [==============================] - 108s 432ms/step - loss: 0.3607 - acc: 0.8324 - val_loss: 0.4769 - val_acc: 0.7845\n",
      "Epoch 18/25\n",
      "250/250 [==============================] - 111s 443ms/step - loss: 0.3387 - acc: 0.8509 - val_loss: 0.4776 - val_acc: 0.7975\n",
      "Epoch 19/25\n",
      "250/250 [==============================] - 107s 428ms/step - loss: 0.3380 - acc: 0.8449 - val_loss: 0.5416 - val_acc: 0.7725\n",
      "Epoch 20/25\n",
      "250/250 [==============================] - 110s 439ms/step - loss: 0.3215 - acc: 0.8599 - val_loss: 0.4864 - val_acc: 0.7925\n",
      "Epoch 21/25\n",
      "250/250 [==============================] - 105s 420ms/step - loss: 0.3067 - acc: 0.8660 - val_loss: 0.4977 - val_acc: 0.7995\n",
      "Epoch 22/25\n",
      "250/250 [==============================] - 108s 430ms/step - loss: 0.2945 - acc: 0.8728 - val_loss: 0.5016 - val_acc: 0.7935\n",
      "Epoch 23/25\n",
      "250/250 [==============================] - 113s 453ms/step - loss: 0.2761 - acc: 0.8822 - val_loss: 0.5430 - val_acc: 0.7875\n",
      "Epoch 24/25\n",
      "250/250 [==============================] - 624s 2s/step - loss: 0.2777 - acc: 0.8810 - val_loss: 0.4957 - val_acc: 0.8035\n",
      "Epoch 25/25\n",
      "250/250 [==============================] - 119s 475ms/step - loss: 0.2671 - acc: 0.8913 - val_loss: 0.5259 - val_acc: 0.7860\n"
     ]
    },
    {
     "data": {
      "text/plain": [
       "<keras.callbacks.History at 0x181cbf8fd0>"
      ]
     },
     "execution_count": 10,
     "metadata": {},
     "output_type": "execute_result"
    }
   ],
   "source": [
    "# Image recognition helps us better understand the data by randoming pixels and structure to images\n",
    "\n",
    "from keras.preprocessing.image import ImageDataGenerator\n",
    "train_datagen = ImageDataGenerator(\n",
    "        rescale=1./255, # Normalizing the scale of the pixels\n",
    "        shear_range=0.2,\n",
    "        zoom_range=0.2,\n",
    "        horizontal_flip=True)\n",
    "\n",
    "test_datagen = ImageDataGenerator(rescale=1./255)\n",
    "\n",
    "training_set = train_datagen.flow_from_directory('./dataset/training_set',\n",
    "                                                 target_size=(64, 64),\n",
    "                                                 batch_size=32,\n",
    "                                                 class_mode='binary')\n",
    "\n",
    "test_set = test_datagen.flow_from_directory('./dataset/test_set',\n",
    "                                            target_size=(64, 64),\n",
    "                                            batch_size=32,\n",
    "                                            class_mode='binary')\n",
    "\n",
    "classifier.fit_generator(training_set,\n",
    "                         steps_per_epoch = (8000/32),\n",
    "                         epochs = 25,\n",
    "                         validation_data = test_set,\n",
    "                         validation_steps = (2000/32))"
   ]
  },
  {
   "cell_type": "code",
   "execution_count": null,
   "metadata": {
    "collapsed": true
   },
   "outputs": [],
   "source": []
  }
 ],
 "metadata": {
  "kernelspec": {
   "display_name": "Python 3",
   "language": "python",
   "name": "python3"
  },
  "language_info": {
   "codemirror_mode": {
    "name": "ipython",
    "version": 3
   },
   "file_extension": ".py",
   "mimetype": "text/x-python",
   "name": "python",
   "nbconvert_exporter": "python",
   "pygments_lexer": "ipython3",
   "version": "3.6.0"
  }
 },
 "nbformat": 4,
 "nbformat_minor": 2
}
